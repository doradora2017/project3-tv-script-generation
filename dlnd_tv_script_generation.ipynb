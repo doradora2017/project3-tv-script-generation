{
 "cells": [
  {
   "cell_type": "markdown",
   "metadata": {
    "deletable": true,
    "editable": true
   },
   "source": [
    "# TV Script Generation\n",
    "In this project, you'll generate your own [Simpsons](https://en.wikipedia.org/wiki/The_Simpsons) TV scripts using RNNs.  You'll be using part of the [Simpsons dataset](https://www.kaggle.com/wcukierski/the-simpsons-by-the-data) of scripts from 27 seasons.  The Neural Network you'll build will generate a new TV script for a scene at [Moe's Tavern](https://simpsonswiki.com/wiki/Moe's_Tavern).\n",
    "## Get the Data\n",
    "The data is already provided for you.  You'll be using a subset of the original dataset.  It consists of only the scenes in Moe's Tavern.  This doesn't include other versions of the tavern, like \"Moe's Cavern\", \"Flaming Moe's\", \"Uncle Moe's Family Feed-Bag\", etc.."
   ]
  },
  {
   "cell_type": "code",
   "execution_count": 1,
   "metadata": {
    "collapsed": false,
    "deletable": true,
    "editable": true
   },
   "outputs": [],
   "source": [
    "\"\"\"\n",
    "DON'T MODIFY ANYTHING IN THIS CELL\n",
    "\"\"\"\n",
    "import helper\n",
    "\n",
    "data_dir = './data/simpsons/moes_tavern_lines.txt'\n",
    "text = helper.load_data(data_dir)\n",
    "# Ignore notice, since we don't use it for analysing the data\n",
    "text = text[81:]"
   ]
  },
  {
   "cell_type": "markdown",
   "metadata": {
    "deletable": true,
    "editable": true
   },
   "source": [
    "## Explore the Data\n",
    "Play around with `view_sentence_range` to view different parts of the data."
   ]
  },
  {
   "cell_type": "code",
   "execution_count": 2,
   "metadata": {
    "collapsed": false,
    "deletable": true,
    "editable": true
   },
   "outputs": [
    {
     "name": "stdout",
     "output_type": "stream",
     "text": [
      "Dataset Stats\n",
      "Roughly the number of unique words: 11492\n",
      "Number of scenes: 262\n",
      "Average number of sentences in each scene: 15.248091603053435\n",
      "Number of lines: 4257\n",
      "Average number of words in each line: 11.50434578341555\n",
      "\n",
      "The sentences 0 to 10:\n",
      "Moe_Szyslak: (INTO PHONE) Moe's Tavern. Where the elite meet to drink.\n",
      "Bart_Simpson: Eh, yeah, hello, is Mike there? Last name, Rotch.\n",
      "Moe_Szyslak: (INTO PHONE) Hold on, I'll check. (TO BARFLIES) Mike Rotch. Mike Rotch. Hey, has anybody seen Mike Rotch, lately?\n",
      "Moe_Szyslak: (INTO PHONE) Listen you little puke. One of these days I'm gonna catch you, and I'm gonna carve my name on your back with an ice pick.\n",
      "Moe_Szyslak: What's the matter Homer? You're not your normal effervescent self.\n",
      "Homer_Simpson: I got my problems, Moe. Give me another one.\n",
      "Moe_Szyslak: Homer, hey, you should not drink to forget your problems.\n",
      "Barney_Gumble: Yeah, you should only drink to enhance your social skills.\n",
      "\n",
      "\n"
     ]
    }
   ],
   "source": [
    "view_sentence_range = (0, 10)\n",
    "\n",
    "\"\"\"\n",
    "DON'T MODIFY ANYTHING IN THIS CELL\n",
    "\"\"\"\n",
    "import numpy as np\n",
    "\n",
    "print('Dataset Stats')\n",
    "print('Roughly the number of unique words: {}'.format(len({word: None for word in text.split()})))\n",
    "scenes = text.split('\\n\\n')\n",
    "print('Number of scenes: {}'.format(len(scenes)))\n",
    "sentence_count_scene = [scene.count('\\n') for scene in scenes]\n",
    "print('Average number of sentences in each scene: {}'.format(np.average(sentence_count_scene)))\n",
    "\n",
    "sentences = [sentence for scene in scenes for sentence in scene.split('\\n')]\n",
    "print('Number of lines: {}'.format(len(sentences)))\n",
    "word_count_sentence = [len(sentence.split()) for sentence in sentences]\n",
    "print('Average number of words in each line: {}'.format(np.average(word_count_sentence)))\n",
    "\n",
    "print()\n",
    "print('The sentences {} to {}:'.format(*view_sentence_range))\n",
    "print('\\n'.join(text.split('\\n')[view_sentence_range[0]:view_sentence_range[1]]))"
   ]
  },
  {
   "cell_type": "markdown",
   "metadata": {
    "deletable": true,
    "editable": true
   },
   "source": [
    "## Implement Preprocessing Functions\n",
    "The first thing to do to any dataset is preprocessing.  Implement the following preprocessing functions below:\n",
    "- Lookup Table\n",
    "- Tokenize Punctuation\n",
    "\n",
    "### Lookup Table\n",
    "To create a word embedding, you first need to transform the words to ids.  In this function, create two dictionaries:\n",
    "- Dictionary to go from the words to an id, we'll call `vocab_to_int`\n",
    "- Dictionary to go from the id to word, we'll call `int_to_vocab`\n",
    "\n",
    "Return these dictionaries in the following tuple `(vocab_to_int, int_to_vocab)`"
   ]
  },
  {
   "cell_type": "code",
   "execution_count": 3,
   "metadata": {
    "collapsed": false,
    "deletable": true,
    "editable": true
   },
   "outputs": [
    {
     "name": "stdout",
     "output_type": "stream",
     "text": [
      "Tests Passed\n"
     ]
    }
   ],
   "source": [
    "import numpy as np\n",
    "import problem_unittests as tests\n",
    "from collections import Counter\n",
    "\n",
    "def create_lookup_tables(text):\n",
    "    \"\"\"\n",
    "    Create lookup tables for vocabulary\n",
    "    :param text: The text of tv scripts split into words\n",
    "    :return: A tuple of dicts (vocab_to_int, int_to_vocab)\n",
    "    \"\"\"\n",
    "    # TODO: Implement Function\n",
    "    counts = Counter(text)\n",
    "    vocab = sorted(counts, key=counts.get, reverse=True)\n",
    "    vocab_to_int = {word: ii for ii, word in enumerate(vocab)}\n",
    "    int_to_vocab = {ii: word for ii, word in enumerate(vocab)}\n",
    "    return vocab_to_int, int_to_vocab\n",
    "\n",
    "\n",
    "\"\"\"\n",
    "DON'T MODIFY ANYTHING IN THIS CELL THAT IS BELOW THIS LINE\n",
    "\"\"\"\n",
    "tests.test_create_lookup_tables(create_lookup_tables)"
   ]
  },
  {
   "cell_type": "markdown",
   "metadata": {
    "deletable": true,
    "editable": true
   },
   "source": [
    "### Tokenize Punctuation\n",
    "We'll be splitting the script into a word array using spaces as delimiters.  However, punctuations like periods and exclamation marks make it hard for the neural network to distinguish between the word \"bye\" and \"bye!\".\n",
    "\n",
    "Implement the function `token_lookup` to return a dict that will be used to tokenize symbols like \"!\" into \"||Exclamation_Mark||\".  Create a dictionary for the following symbols where the symbol is the key and value is the token:\n",
    "- Period ( . )\n",
    "- Comma ( , )\n",
    "- Quotation Mark ( \" )\n",
    "- Semicolon ( ; )\n",
    "- Exclamation mark ( ! )\n",
    "- Question mark ( ? )\n",
    "- Left Parentheses ( ( )\n",
    "- Right Parentheses ( ) )\n",
    "- Dash ( -- )\n",
    "- Return ( \\n )\n",
    "\n",
    "This dictionary will be used to token the symbols and add the delimiter (space) around it.  This separates the symbols as it's own word, making it easier for the neural network to predict on the next word. Make sure you don't use a token that could be confused as a word. Instead of using the token \"dash\", try using something like \"||dash||\"."
   ]
  },
  {
   "cell_type": "code",
   "execution_count": 4,
   "metadata": {
    "collapsed": false,
    "deletable": true,
    "editable": true
   },
   "outputs": [
    {
     "name": "stdout",
     "output_type": "stream",
     "text": [
      "Tests Passed\n"
     ]
    }
   ],
   "source": [
    "def token_lookup():\n",
    "    \"\"\"\n",
    "    Generate a dict to turn punctuation into a token.\n",
    "    :return: Tokenize dictionary where the key is the punctuation and the value is the token\n",
    "    \"\"\"\n",
    "    # TODO: Implement Function\n",
    "    token_dict = {'.' : '||Peroid||',\n",
    "                  ',' : '||Comma||',\n",
    "                  '\"' : '||Quotation_Mark||',\n",
    "                  ';' : '||Semicolon||',\n",
    "                  '!' : '||Exclamation_Mark||',\n",
    "                  '?' : '||Question_Mark||',\n",
    "                  '(' : '||Left_Parentheses||',\n",
    "                  ')' : '||Right_Parentheses||',\n",
    "                  '--' : '||Dash||',\n",
    "                  '\\n' : '||Return||'\n",
    "    }\n",
    "    return token_dict\n",
    "\n",
    "\"\"\"\n",
    "DON'T MODIFY ANYTHING IN THIS CELL THAT IS BELOW THIS LINE\n",
    "\"\"\"\n",
    "tests.test_tokenize(token_lookup)"
   ]
  },
  {
   "cell_type": "markdown",
   "metadata": {
    "deletable": true,
    "editable": true
   },
   "source": [
    "## Preprocess all the data and save it\n",
    "Running the code cell below will preprocess all the data and save it to file."
   ]
  },
  {
   "cell_type": "code",
   "execution_count": 5,
   "metadata": {
    "collapsed": false,
    "deletable": true,
    "editable": true
   },
   "outputs": [],
   "source": [
    "\"\"\"\n",
    "DON'T MODIFY ANYTHING IN THIS CELL\n",
    "\"\"\"\n",
    "# Preprocess Training, Validation, and Testing Data\n",
    "helper.preprocess_and_save_data(data_dir, token_lookup, create_lookup_tables)"
   ]
  },
  {
   "cell_type": "markdown",
   "metadata": {
    "deletable": true,
    "editable": true
   },
   "source": [
    "# Check Point\n",
    "This is your first checkpoint. If you ever decide to come back to this notebook or have to restart the notebook, you can start from here. The preprocessed data has been saved to disk."
   ]
  },
  {
   "cell_type": "code",
   "execution_count": 6,
   "metadata": {
    "collapsed": false,
    "deletable": true,
    "editable": true
   },
   "outputs": [],
   "source": [
    "\"\"\"\n",
    "DON'T MODIFY ANYTHING IN THIS CELL\n",
    "\"\"\"\n",
    "import helper\n",
    "import numpy as np\n",
    "import problem_unittests as tests\n",
    "\n",
    "int_text, vocab_to_int, int_to_vocab, token_dict = helper.load_preprocess()"
   ]
  },
  {
   "cell_type": "markdown",
   "metadata": {
    "deletable": true,
    "editable": true
   },
   "source": [
    "## Build the Neural Network\n",
    "You'll build the components necessary to build a RNN by implementing the following functions below:\n",
    "- get_inputs\n",
    "- get_init_cell\n",
    "- get_embed\n",
    "- build_rnn\n",
    "- build_nn\n",
    "- get_batches\n",
    "\n",
    "### Check the Version of TensorFlow and Access to GPU"
   ]
  },
  {
   "cell_type": "code",
   "execution_count": 7,
   "metadata": {
    "collapsed": false,
    "deletable": true,
    "editable": true
   },
   "outputs": [
    {
     "name": "stdout",
     "output_type": "stream",
     "text": [
      "TensorFlow Version: 1.0.0\n",
      "Default GPU Device: /gpu:0\n"
     ]
    }
   ],
   "source": [
    "\"\"\"\n",
    "DON'T MODIFY ANYTHING IN THIS CELL\n",
    "\"\"\"\n",
    "from distutils.version import LooseVersion\n",
    "import warnings\n",
    "import tensorflow as tf\n",
    "\n",
    "# Check TensorFlow Version\n",
    "assert LooseVersion(tf.__version__) >= LooseVersion('1.0'), 'Please use TensorFlow version 1.0 or newer'\n",
    "print('TensorFlow Version: {}'.format(tf.__version__))\n",
    "\n",
    "# Check for a GPU\n",
    "if not tf.test.gpu_device_name():\n",
    "    warnings.warn('No GPU found. Please use a GPU to train your neural network.')\n",
    "else:\n",
    "    print('Default GPU Device: {}'.format(tf.test.gpu_device_name()))"
   ]
  },
  {
   "cell_type": "markdown",
   "metadata": {
    "deletable": true,
    "editable": true
   },
   "source": [
    "### Input\n",
    "Implement the `get_inputs()` function to create TF Placeholders for the Neural Network.  It should create the following placeholders:\n",
    "- Input text placeholder named \"input\" using the [TF Placeholder](https://www.tensorflow.org/api_docs/python/tf/placeholder) `name` parameter.\n",
    "- Targets placeholder\n",
    "- Learning Rate placeholder\n",
    "\n",
    "Return the placeholders in the following the tuple `(Input, Targets, LearingRate)`"
   ]
  },
  {
   "cell_type": "code",
   "execution_count": 8,
   "metadata": {
    "collapsed": false,
    "deletable": true,
    "editable": true
   },
   "outputs": [
    {
     "name": "stdout",
     "output_type": "stream",
     "text": [
      "Tests Passed\n"
     ]
    }
   ],
   "source": [
    "def get_inputs():\n",
    "    \"\"\"\n",
    "    Create TF Placeholders for input, targets, and learning rate.\n",
    "    :return: Tuple (input, targets, learning rate)\n",
    "    \"\"\"\n",
    "    # TODO: Implement Function\n",
    "    input_ = tf.placeholder(tf.int32, [None, None], name = 'input')\n",
    "    targets = tf.placeholder(tf.int32, [None, None], name = 'targets')\n",
    "    learning_rate = tf.placeholder(tf.float32, name = 'learning_rate')\n",
    "    return input_, targets, learning_rate\n",
    "\n",
    "\n",
    "\"\"\"\n",
    "DON'T MODIFY ANYTHING IN THIS CELL THAT IS BELOW THIS LINE\n",
    "\"\"\"\n",
    "tests.test_get_inputs(get_inputs)"
   ]
  },
  {
   "cell_type": "markdown",
   "metadata": {
    "deletable": true,
    "editable": true
   },
   "source": [
    "### Build RNN Cell and Initialize\n",
    "Stack one or more [`BasicLSTMCells`](https://www.tensorflow.org/api_docs/python/tf/contrib/rnn/BasicLSTMCell) in a [`MultiRNNCell`](https://www.tensorflow.org/api_docs/python/tf/contrib/rnn/MultiRNNCell).\n",
    "- The Rnn size should be set using `rnn_size`\n",
    "- Initalize Cell State using the MultiRNNCell's [`zero_state()`](https://www.tensorflow.org/api_docs/python/tf/contrib/rnn/MultiRNNCell#zero_state) function\n",
    "    - Apply the name \"initial_state\" to the initial state using [`tf.identity()`](https://www.tensorflow.org/api_docs/python/tf/identity)\n",
    "\n",
    "Return the cell and initial state in the following tuple `(Cell, InitialState)`"
   ]
  },
  {
   "cell_type": "code",
   "execution_count": 9,
   "metadata": {
    "collapsed": false,
    "deletable": true,
    "editable": true
   },
   "outputs": [
    {
     "name": "stdout",
     "output_type": "stream",
     "text": [
      "Tests Passed\n"
     ]
    }
   ],
   "source": [
    "def get_init_cell(batch_size, rnn_size):\n",
    "    \"\"\"\n",
    "    Create an RNN Cell and initialize it.\n",
    "    :param batch_size: Size of batches\n",
    "    :param rnn_size: Size of RNNs\n",
    "    :return: Tuple (cell, initialize state)\n",
    "    \"\"\"\n",
    "    # TODO: Implement Function\n",
    "    #basic lstm cell\n",
    "    lstm = tf.contrib.rnn.BasicLSTMCell(rnn_size)\n",
    "    \n",
    "    #add drop to cell\n",
    "    drop = tf.contrib.rnn.DropoutWrapper(lstm, output_keep_prob=0.5)\n",
    "    \n",
    "    #stack up multiple lstm layers\n",
    "    cell = tf.contrib.rnn.MultiRNNCell([drop] * 1)\n",
    "    \n",
    "    #get initial state of cell\n",
    "    initial_state = cell.zero_state(batch_size, tf.float32)\n",
    "    initial_state = tf.identity(initial_state, name='initial_state')\n",
    "    return cell, initial_state\n",
    "\n",
    "\n",
    "\"\"\"\n",
    "DON'T MODIFY ANYTHING IN THIS CELL THAT IS BELOW THIS LINE\n",
    "\"\"\"\n",
    "tests.test_get_init_cell(get_init_cell)"
   ]
  },
  {
   "cell_type": "markdown",
   "metadata": {
    "deletable": true,
    "editable": true
   },
   "source": [
    "### Word Embedding\n",
    "Apply embedding to `input_data` using TensorFlow.  Return the embedded sequence."
   ]
  },
  {
   "cell_type": "code",
   "execution_count": 10,
   "metadata": {
    "collapsed": false,
    "deletable": true,
    "editable": true
   },
   "outputs": [
    {
     "name": "stdout",
     "output_type": "stream",
     "text": [
      "Tests Passed\n"
     ]
    }
   ],
   "source": [
    "def get_embed(input_data, vocab_size, embed_dim):\n",
    "    \"\"\"\n",
    "    Create embedding for <input_data>.\n",
    "    :param input_data: TF placeholder for text input.\n",
    "    :param vocab_size: Number of words in vocabulary.\n",
    "    :param embed_dim: Number of embedding dimensions\n",
    "    :return: Embedded input.\n",
    "    \"\"\"\n",
    "    # TODO: Implement Function\n",
    "    embedding = tf.Variable(tf.random_uniform((vocab_size, embed_dim), -1, -1))\n",
    "    embed = tf.nn.embedding_lookup(embedding, input_data)\n",
    "    return embed\n",
    "\n",
    "\n",
    "\"\"\"\n",
    "DON'T MODIFY ANYTHING IN THIS CELL THAT IS BELOW THIS LINE\n",
    "\"\"\"\n",
    "tests.test_get_embed(get_embed)"
   ]
  },
  {
   "cell_type": "markdown",
   "metadata": {
    "deletable": true,
    "editable": true
   },
   "source": [
    "### Build RNN\n",
    "You created a RNN Cell in the `get_init_cell()` function.  Time to use the cell to create a RNN.\n",
    "- Build the RNN using the [`tf.nn.dynamic_rnn()`](https://www.tensorflow.org/api_docs/python/tf/nn/dynamic_rnn)\n",
    " - Apply the name \"final_state\" to the final state using [`tf.identity()`](https://www.tensorflow.org/api_docs/python/tf/identity)\n",
    "\n",
    "Return the outputs and final_state state in the following tuple `(Outputs, FinalState)` "
   ]
  },
  {
   "cell_type": "code",
   "execution_count": 11,
   "metadata": {
    "collapsed": false,
    "deletable": true,
    "editable": true
   },
   "outputs": [
    {
     "name": "stdout",
     "output_type": "stream",
     "text": [
      "Tests Passed\n"
     ]
    }
   ],
   "source": [
    "def build_rnn(cell, inputs):\n",
    "    \"\"\"\n",
    "    Create a RNN using a RNN Cell\n",
    "    :param cell: RNN Cell\n",
    "    :param inputs: Input text data\n",
    "    :return: Tuple (Outputs, Final State)\n",
    "    \"\"\"\n",
    "    # TODO: Implement Function\n",
    "    outputs, final_state = tf.nn.dynamic_rnn(cell, inputs, dtype=tf.float32)\n",
    "    final_state = tf.identity(final_state, name='final_state')\n",
    "    return outputs, final_state\n",
    "\n",
    "\n",
    "\"\"\"\n",
    "DON'T MODIFY ANYTHING IN THIS CELL THAT IS BELOW THIS LINE\n",
    "\"\"\"\n",
    "tests.test_build_rnn(build_rnn)"
   ]
  },
  {
   "cell_type": "markdown",
   "metadata": {
    "deletable": true,
    "editable": true
   },
   "source": [
    "### Build the Neural Network\n",
    "Apply the functions you implemented above to:\n",
    "- Apply embedding to `input_data` using your `get_embed(input_data, vocab_size, embed_dim)` function.\n",
    "- Build RNN using `cell` and your `build_rnn(cell, inputs)` function.\n",
    "- Apply a fully connected layer with a linear activation and `vocab_size` as the number of outputs.\n",
    "\n",
    "Return the logits and final state in the following tuple (Logits, FinalState) "
   ]
  },
  {
   "cell_type": "code",
   "execution_count": 12,
   "metadata": {
    "collapsed": false,
    "deletable": true,
    "editable": true
   },
   "outputs": [
    {
     "name": "stdout",
     "output_type": "stream",
     "text": [
      "Tests Passed\n"
     ]
    }
   ],
   "source": [
    "def build_nn(cell, rnn_size, input_data, vocab_size):\n",
    "    \"\"\"\n",
    "    Build part of the neural network\n",
    "    :param cell: RNN cell\n",
    "    :param rnn_size: Size of rnns\n",
    "    :param input_data: Input data\n",
    "    :param vocab_size: Vocabulary size\n",
    "    :return: Tuple (Logits, FinalState)\n",
    "    \"\"\"\n",
    "    # TODO: Implement Function\n",
    "    #applying embedding\n",
    "    embed = get_embed(input_data, vocab_size, 300)\n",
    "    \n",
    "    #run RNN\n",
    "    outputs, final_state = build_rnn(cell, embed)\n",
    "    \n",
    "    #connect the RNN outputs\n",
    "    logits = tf.contrib.layers.fully_connected(outputs, vocab_size,\n",
    "                                               weights_initializer=tf.truncated_normal_initializer(stddev=0.1),\n",
    "                                               biases_initializer=tf.zeros_initializer(),\n",
    "                                              activation_fn=None)\n",
    "    '''\n",
    "    #reshape output\n",
    "    outputs = tf.reshape(outputs, [-1, rnn_size])\n",
    "    \n",
    "    #connect the RNN outputs\n",
    "    softmax_w = tf.Variable(tf.truncated_normal([rnn_size, vocab_size], stddev=0.1))\n",
    "    softmat_b = tf.Variable(tf.zeros(vocab_size))\n",
    "    logits = tf.matmul(outputs, softmax_w) + softmat_b\n",
    "    logits = tf.reshape(logits, [input_data.shape.as_list()[0], input_data.shape.as_list()[1], vocab_size])\n",
    "    '''\n",
    "    \n",
    "    return logits, final_state\n",
    "\n",
    "\n",
    "\"\"\"\n",
    "DON'T MODIFY ANYTHING IN THIS CELL THAT IS BELOW THIS LINE\n",
    "\"\"\"\n",
    "tests.test_build_nn(build_nn)"
   ]
  },
  {
   "cell_type": "markdown",
   "metadata": {
    "deletable": true,
    "editable": true
   },
   "source": [
    "### Batches\n",
    "Implement `get_batches` to create batches of input and targets using `int_text`.  The batches should be a Numpy array with the shape `(number of batches, 2, batch size, sequence length)`. Each batch contains two elements:\n",
    "- The first element is a single batch of **input** with the shape `[batch size, sequence length]`\n",
    "- The second element is a single batch of **targets** with the shape `[batch size, sequence length]`\n",
    "\n",
    "If you can't fill the last batch with enough data, drop the last batch.\n",
    "\n",
    "For exmple, `get_batches([1, 2, 3, 4, 5, 6, 7, 8, 9, 10, 11, 12, 13, 14, 15], 2, 3)` would return a Numpy array of the following:\n",
    "```\n",
    "[\n",
    "  # First Batch\n",
    "  [\n",
    "    # Batch of Input\n",
    "    [[ 1  2  3], [ 7  8  9]],\n",
    "    # Batch of targets\n",
    "    [[ 2  3  4], [ 8  9 10]]\n",
    "  ],\n",
    " \n",
    "  # Second Batch\n",
    "  [\n",
    "    # Batch of Input\n",
    "    [[ 4  5  6], [10 11 12]],\n",
    "    # Batch of targets\n",
    "    [[ 5  6  7], [11 12 13]]\n",
    "  ]\n",
    "]\n",
    "```"
   ]
  },
  {
   "cell_type": "code",
   "execution_count": 13,
   "metadata": {
    "collapsed": false,
    "deletable": true,
    "editable": true
   },
   "outputs": [
    {
     "name": "stdout",
     "output_type": "stream",
     "text": [
      "Tests Passed\n"
     ]
    }
   ],
   "source": [
    "def get_batches(int_text, batch_size, seq_length):\n",
    "    \"\"\"\n",
    "    Return batches of input and target\n",
    "    :param int_text: Text with the words replaced by their ids\n",
    "    :param batch_size: The size of batch\n",
    "    :param seq_length: The length of sequence\n",
    "    :return: Batches as a Numpy array\n",
    "    \"\"\"\n",
    "    # TODO: Implement Function\n",
    "    n_batches = (len(int_text) - 1) // (batch_size*seq_length)\n",
    "    int_text = int_text[:n_batches*batch_size*seq_length + 1]\n",
    "    batches = []\n",
    "    for batch_i in range(n_batches):\n",
    "        inputs, targets = [], []\n",
    "        for ii in range(batch_i*seq_length, len(int_text), n_batches*seq_length):\n",
    "            x, y = int_text[ii:ii+seq_length], int_text[ii+1:ii+seq_length+1]\n",
    "            if(len(x) == seq_length):\n",
    "                inputs.append(x)\n",
    "                targets.append(y)\n",
    "        batches.append(list((inputs, targets)))\n",
    "    batches = np.array(batches)\n",
    "    return batches\n",
    "\n",
    "\n",
    "\"\"\"\n",
    "DON'T MODIFY ANYTHING IN THIS CELL THAT IS BELOW THIS LINE\n",
    "\"\"\"\n",
    "tests.test_get_batches(get_batches)"
   ]
  },
  {
   "cell_type": "markdown",
   "metadata": {
    "deletable": true,
    "editable": true
   },
   "source": [
    "## Neural Network Training\n",
    "### Hyperparameters\n",
    "Tune the following parameters:\n",
    "\n",
    "- Set `num_epochs` to the number of epochs.\n",
    "- Set `batch_size` to the batch size.\n",
    "- Set `rnn_size` to the size of the RNNs.\n",
    "- Set `seq_length` to the length of sequence.\n",
    "- Set `learning_rate` to the learning rate.\n",
    "- Set `show_every_n_batches` to the number of batches the neural network should print progress."
   ]
  },
  {
   "cell_type": "code",
   "execution_count": 21,
   "metadata": {
    "collapsed": true,
    "deletable": true,
    "editable": true
   },
   "outputs": [],
   "source": [
    "# Number of Epochs\n",
    "num_epochs = 1000\n",
    "# Batch Size\n",
    "batch_size = 256\n",
    "# RNN Size\n",
    "rnn_size = 512\n",
    "# Sequence Length\n",
    "seq_length = 10\n",
    "# Learning Rate\n",
    "learning_rate = 0.001\n",
    "# Show stats for every n number of batches\n",
    "show_every_n_batches = 100\n",
    "\n",
    "\"\"\"\n",
    "DON'T MODIFY ANYTHING IN THIS CELL THAT IS BELOW THIS LINE\n",
    "\"\"\"\n",
    "save_dir = './save'"
   ]
  },
  {
   "cell_type": "markdown",
   "metadata": {
    "deletable": true,
    "editable": true
   },
   "source": [
    "### Build the Graph\n",
    "Build the graph using the neural network you implemented."
   ]
  },
  {
   "cell_type": "code",
   "execution_count": 23,
   "metadata": {
    "collapsed": false,
    "deletable": true,
    "editable": true
   },
   "outputs": [],
   "source": [
    "\"\"\"\n",
    "DON'T MODIFY ANYTHING IN THIS CELL\n",
    "\"\"\"\n",
    "from tensorflow.contrib import seq2seq\n",
    "\n",
    "train_graph = tf.Graph()\n",
    "with train_graph.as_default():\n",
    "    vocab_size = len(int_to_vocab)\n",
    "    input_text, targets, lr = get_inputs()\n",
    "    input_data_shape = tf.shape(input_text)\n",
    "    cell, initial_state = get_init_cell(input_data_shape[0], rnn_size)\n",
    "    logits, final_state = build_nn(cell, rnn_size, input_text, vocab_size)\n",
    "\n",
    "    # Probabilities for generating words\n",
    "    probs = tf.nn.softmax(logits, name='probs')\n",
    "\n",
    "    # Loss function\n",
    "    cost = seq2seq.sequence_loss(\n",
    "        logits,\n",
    "        targets,\n",
    "        tf.ones([input_data_shape[0], input_data_shape[1]]))\n",
    "\n",
    "    # Optimizer\n",
    "    optimizer = tf.train.AdamOptimizer(lr)\n",
    "\n",
    "    # Gradient Clipping\n",
    "    gradients = optimizer.compute_gradients(cost)\n",
    "    capped_gradients = [(tf.clip_by_value(grad, -1., 1.), var) for grad, var in gradients]\n",
    "    train_op = optimizer.apply_gradients(capped_gradients)"
   ]
  },
  {
   "cell_type": "markdown",
   "metadata": {
    "deletable": true,
    "editable": true
   },
   "source": [
    "## Train\n",
    "Train the neural network on the preprocessed data.  If you have a hard time getting a good loss, check the [forms](https://discussions.udacity.com/) to see if anyone is having the same problem."
   ]
  },
  {
   "cell_type": "code",
   "execution_count": 24,
   "metadata": {
    "collapsed": false,
    "deletable": true,
    "editable": true,
    "scrolled": true
   },
   "outputs": [
    {
     "name": "stdout",
     "output_type": "stream",
     "text": [
      "Epoch   0 Batch    0/26   train_loss = 9.042\n",
      "Epoch   3 Batch   22/26   train_loss = 5.907\n",
      "Epoch   7 Batch   18/26   train_loss = 5.400\n",
      "Epoch  11 Batch   14/26   train_loss = 5.109\n",
      "Epoch  15 Batch   10/26   train_loss = 4.653\n",
      "Epoch  19 Batch    6/26   train_loss = 4.695\n",
      "Epoch  23 Batch    2/26   train_loss = 4.525\n",
      "Epoch  26 Batch   24/26   train_loss = 4.298\n",
      "Epoch  30 Batch   20/26   train_loss = 4.169\n",
      "Epoch  34 Batch   16/26   train_loss = 4.018\n",
      "Epoch  38 Batch   12/26   train_loss = 3.979\n",
      "Epoch  42 Batch    8/26   train_loss = 3.780\n",
      "Epoch  46 Batch    4/26   train_loss = 3.672\n",
      "Epoch  50 Batch    0/26   train_loss = 3.657\n",
      "Epoch  53 Batch   22/26   train_loss = 3.443\n",
      "Epoch  57 Batch   18/26   train_loss = 3.417\n",
      "Epoch  61 Batch   14/26   train_loss = 3.384\n",
      "Epoch  65 Batch   10/26   train_loss = 3.179\n",
      "Epoch  69 Batch    6/26   train_loss = 3.086\n",
      "Epoch  73 Batch    2/26   train_loss = 3.034\n",
      "Epoch  76 Batch   24/26   train_loss = 2.962\n",
      "Epoch  80 Batch   20/26   train_loss = 2.826\n",
      "Epoch  84 Batch   16/26   train_loss = 2.751\n",
      "Epoch  88 Batch   12/26   train_loss = 2.709\n",
      "Epoch  92 Batch    8/26   train_loss = 2.661\n",
      "Epoch  96 Batch    4/26   train_loss = 2.700\n",
      "Epoch 100 Batch    0/26   train_loss = 2.576\n",
      "Epoch 103 Batch   22/26   train_loss = 2.500\n",
      "Epoch 107 Batch   18/26   train_loss = 2.391\n",
      "Epoch 111 Batch   14/26   train_loss = 2.349\n",
      "Epoch 115 Batch   10/26   train_loss = 2.277\n",
      "Epoch 119 Batch    6/26   train_loss = 2.289\n",
      "Epoch 123 Batch    2/26   train_loss = 2.243\n",
      "Epoch 126 Batch   24/26   train_loss = 2.208\n",
      "Epoch 130 Batch   20/26   train_loss = 2.173\n",
      "Epoch 134 Batch   16/26   train_loss = 2.171\n",
      "Epoch 138 Batch   12/26   train_loss = 2.081\n",
      "Epoch 142 Batch    8/26   train_loss = 2.028\n",
      "Epoch 146 Batch    4/26   train_loss = 2.046\n",
      "Epoch 150 Batch    0/26   train_loss = 1.968\n",
      "Epoch 153 Batch   22/26   train_loss = 1.959\n",
      "Epoch 157 Batch   18/26   train_loss = 1.876\n",
      "Epoch 161 Batch   14/26   train_loss = 1.884\n",
      "Epoch 165 Batch   10/26   train_loss = 1.911\n",
      "Epoch 169 Batch    6/26   train_loss = 1.884\n",
      "Epoch 173 Batch    2/26   train_loss = 1.863\n",
      "Epoch 176 Batch   24/26   train_loss = 1.837\n",
      "Epoch 180 Batch   20/26   train_loss = 1.756\n",
      "Epoch 184 Batch   16/26   train_loss = 1.799\n",
      "Epoch 188 Batch   12/26   train_loss = 1.723\n",
      "Epoch 192 Batch    8/26   train_loss = 1.726\n",
      "Epoch 196 Batch    4/26   train_loss = 1.775\n",
      "Epoch 200 Batch    0/26   train_loss = 1.702\n",
      "Epoch 203 Batch   22/26   train_loss = 1.686\n",
      "Epoch 207 Batch   18/26   train_loss = 1.619\n",
      "Epoch 211 Batch   14/26   train_loss = 1.609\n",
      "Epoch 215 Batch   10/26   train_loss = 1.643\n",
      "Epoch 219 Batch    6/26   train_loss = 1.643\n",
      "Epoch 223 Batch    2/26   train_loss = 1.605\n",
      "Epoch 226 Batch   24/26   train_loss = 1.571\n",
      "Epoch 230 Batch   20/26   train_loss = 1.525\n",
      "Epoch 234 Batch   16/26   train_loss = 1.600\n",
      "Epoch 238 Batch   12/26   train_loss = 1.456\n",
      "Epoch 242 Batch    8/26   train_loss = 1.441\n",
      "Epoch 246 Batch    4/26   train_loss = 1.534\n",
      "Epoch 250 Batch    0/26   train_loss = 1.418\n",
      "Epoch 253 Batch   22/26   train_loss = 1.410\n",
      "Epoch 257 Batch   18/26   train_loss = 1.439\n",
      "Epoch 261 Batch   14/26   train_loss = 1.448\n",
      "Epoch 265 Batch   10/26   train_loss = 1.414\n",
      "Epoch 269 Batch    6/26   train_loss = 1.436\n",
      "Epoch 273 Batch    2/26   train_loss = 1.392\n",
      "Epoch 276 Batch   24/26   train_loss = 1.348\n",
      "Epoch 280 Batch   20/26   train_loss = 1.299\n",
      "Epoch 284 Batch   16/26   train_loss = 1.301\n",
      "Epoch 288 Batch   12/26   train_loss = 1.240\n",
      "Epoch 292 Batch    8/26   train_loss = 1.223\n",
      "Epoch 296 Batch    4/26   train_loss = 1.294\n",
      "Epoch 300 Batch    0/26   train_loss = 1.190\n",
      "Epoch 303 Batch   22/26   train_loss = 1.208\n",
      "Epoch 307 Batch   18/26   train_loss = 1.198\n",
      "Epoch 311 Batch   14/26   train_loss = 1.193\n",
      "Epoch 315 Batch   10/26   train_loss = 1.221\n",
      "Epoch 319 Batch    6/26   train_loss = 1.173\n",
      "Epoch 323 Batch    2/26   train_loss = 1.187\n",
      "Epoch 326 Batch   24/26   train_loss = 1.163\n",
      "Epoch 330 Batch   20/26   train_loss = 1.146\n",
      "Epoch 334 Batch   16/26   train_loss = 1.137\n",
      "Epoch 338 Batch   12/26   train_loss = 1.099\n",
      "Epoch 342 Batch    8/26   train_loss = 1.086\n",
      "Epoch 346 Batch    4/26   train_loss = 1.090\n",
      "Epoch 350 Batch    0/26   train_loss = 1.038\n",
      "Epoch 353 Batch   22/26   train_loss = 1.041\n",
      "Epoch 357 Batch   18/26   train_loss = 0.988\n",
      "Epoch 361 Batch   14/26   train_loss = 1.069\n",
      "Epoch 365 Batch   10/26   train_loss = 1.004\n",
      "Epoch 369 Batch    6/26   train_loss = 1.004\n",
      "Epoch 373 Batch    2/26   train_loss = 1.044\n",
      "Epoch 376 Batch   24/26   train_loss = 1.010\n",
      "Epoch 380 Batch   20/26   train_loss = 1.002\n",
      "Epoch 384 Batch   16/26   train_loss = 1.005\n",
      "Epoch 388 Batch   12/26   train_loss = 0.963\n",
      "Epoch 392 Batch    8/26   train_loss = 1.021\n",
      "Epoch 396 Batch    4/26   train_loss = 1.020\n",
      "Epoch 400 Batch    0/26   train_loss = 0.979\n",
      "Epoch 403 Batch   22/26   train_loss = 0.952\n",
      "Epoch 407 Batch   18/26   train_loss = 0.918\n",
      "Epoch 411 Batch   14/26   train_loss = 0.907\n",
      "Epoch 415 Batch   10/26   train_loss = 0.858\n",
      "Epoch 419 Batch    6/26   train_loss = 0.899\n",
      "Epoch 423 Batch    2/26   train_loss = 0.902\n",
      "Epoch 426 Batch   24/26   train_loss = 0.880\n",
      "Epoch 430 Batch   20/26   train_loss = 0.806\n",
      "Epoch 434 Batch   16/26   train_loss = 0.852\n",
      "Epoch 438 Batch   12/26   train_loss = 0.778\n",
      "Epoch 442 Batch    8/26   train_loss = 0.856\n",
      "Epoch 446 Batch    4/26   train_loss = 0.854\n",
      "Epoch 450 Batch    0/26   train_loss = 0.776\n",
      "Epoch 453 Batch   22/26   train_loss = 0.824\n",
      "Epoch 457 Batch   18/26   train_loss = 0.790\n",
      "Epoch 461 Batch   14/26   train_loss = 0.794\n",
      "Epoch 465 Batch   10/26   train_loss = 0.775\n",
      "Epoch 469 Batch    6/26   train_loss = 0.825\n",
      "Epoch 473 Batch    2/26   train_loss = 0.856\n",
      "Epoch 476 Batch   24/26   train_loss = 0.765\n",
      "Epoch 480 Batch   20/26   train_loss = 0.759\n",
      "Epoch 484 Batch   16/26   train_loss = 0.776\n",
      "Epoch 488 Batch   12/26   train_loss = 0.713\n",
      "Epoch 492 Batch    8/26   train_loss = 0.752\n",
      "Epoch 496 Batch    4/26   train_loss = 0.774\n",
      "Epoch 500 Batch    0/26   train_loss = 0.691\n",
      "Epoch 503 Batch   22/26   train_loss = 0.726\n",
      "Epoch 507 Batch   18/26   train_loss = 0.722\n",
      "Epoch 511 Batch   14/26   train_loss = 0.727\n",
      "Epoch 515 Batch   10/26   train_loss = 0.731\n",
      "Epoch 519 Batch    6/26   train_loss = 0.743\n",
      "Epoch 523 Batch    2/26   train_loss = 0.752\n",
      "Epoch 526 Batch   24/26   train_loss = 0.732\n",
      "Epoch 530 Batch   20/26   train_loss = 0.731\n",
      "Epoch 534 Batch   16/26   train_loss = 0.678\n",
      "Epoch 538 Batch   12/26   train_loss = 0.680\n",
      "Epoch 542 Batch    8/26   train_loss = 0.704\n",
      "Epoch 546 Batch    4/26   train_loss = 0.695\n",
      "Epoch 550 Batch    0/26   train_loss = 0.727\n",
      "Epoch 553 Batch   22/26   train_loss = 0.712\n",
      "Epoch 557 Batch   18/26   train_loss = 0.665\n",
      "Epoch 561 Batch   14/26   train_loss = 0.693\n",
      "Epoch 565 Batch   10/26   train_loss = 0.709\n",
      "Epoch 569 Batch    6/26   train_loss = 0.676\n",
      "Epoch 573 Batch    2/26   train_loss = 0.691\n",
      "Epoch 576 Batch   24/26   train_loss = 0.645\n",
      "Epoch 580 Batch   20/26   train_loss = 0.674\n",
      "Epoch 584 Batch   16/26   train_loss = 0.699\n",
      "Epoch 588 Batch   12/26   train_loss = 0.619\n",
      "Epoch 592 Batch    8/26   train_loss = 0.645\n",
      "Epoch 596 Batch    4/26   train_loss = 0.643\n",
      "Epoch 600 Batch    0/26   train_loss = 0.596\n",
      "Epoch 603 Batch   22/26   train_loss = 0.618\n",
      "Epoch 607 Batch   18/26   train_loss = 0.630\n",
      "Epoch 611 Batch   14/26   train_loss = 0.629\n",
      "Epoch 615 Batch   10/26   train_loss = 0.638\n",
      "Epoch 619 Batch    6/26   train_loss = 0.623\n",
      "Epoch 623 Batch    2/26   train_loss = 0.614\n",
      "Epoch 626 Batch   24/26   train_loss = 0.612\n",
      "Epoch 630 Batch   20/26   train_loss = 0.607\n",
      "Epoch 634 Batch   16/26   train_loss = 0.592\n",
      "Epoch 638 Batch   12/26   train_loss = 0.555\n",
      "Epoch 642 Batch    8/26   train_loss = 0.576\n",
      "Epoch 646 Batch    4/26   train_loss = 0.582\n",
      "Epoch 650 Batch    0/26   train_loss = 0.549\n",
      "Epoch 653 Batch   22/26   train_loss = 0.598\n",
      "Epoch 657 Batch   18/26   train_loss = 0.577\n",
      "Epoch 661 Batch   14/26   train_loss = 0.587\n",
      "Epoch 665 Batch   10/26   train_loss = 0.579\n",
      "Epoch 669 Batch    6/26   train_loss = 0.582\n",
      "Epoch 673 Batch    2/26   train_loss = 0.598\n",
      "Epoch 676 Batch   24/26   train_loss = 0.594\n",
      "Epoch 680 Batch   20/26   train_loss = 0.588\n",
      "Epoch 684 Batch   16/26   train_loss = 0.637\n",
      "Epoch 688 Batch   12/26   train_loss = 0.579\n",
      "Epoch 692 Batch    8/26   train_loss = 0.560\n",
      "Epoch 696 Batch    4/26   train_loss = 0.618\n",
      "Epoch 700 Batch    0/26   train_loss = 0.561\n",
      "Epoch 703 Batch   22/26   train_loss = 0.568\n",
      "Epoch 707 Batch   18/26   train_loss = 0.602\n",
      "Epoch 711 Batch   14/26   train_loss = 0.581\n",
      "Epoch 715 Batch   10/26   train_loss = 0.572\n",
      "Epoch 719 Batch    6/26   train_loss = 0.598\n",
      "Epoch 723 Batch    2/26   train_loss = 0.565\n",
      "Epoch 726 Batch   24/26   train_loss = 0.530\n",
      "Epoch 730 Batch   20/26   train_loss = 0.535\n",
      "Epoch 734 Batch   16/26   train_loss = 0.532\n",
      "Epoch 738 Batch   12/26   train_loss = 0.497\n",
      "Epoch 742 Batch    8/26   train_loss = 0.497\n",
      "Epoch 746 Batch    4/26   train_loss = 0.527\n",
      "Epoch 750 Batch    0/26   train_loss = 0.488\n",
      "Epoch 753 Batch   22/26   train_loss = 0.500\n",
      "Epoch 757 Batch   18/26   train_loss = 0.500\n",
      "Epoch 761 Batch   14/26   train_loss = 0.516\n",
      "Epoch 765 Batch   10/26   train_loss = 0.496\n",
      "Epoch 769 Batch    6/26   train_loss = 0.507\n",
      "Epoch 773 Batch    2/26   train_loss = 0.529\n",
      "Epoch 776 Batch   24/26   train_loss = 0.505\n",
      "Epoch 780 Batch   20/26   train_loss = 0.516\n",
      "Epoch 784 Batch   16/26   train_loss = 0.518\n",
      "Epoch 788 Batch   12/26   train_loss = 0.493\n",
      "Epoch 792 Batch    8/26   train_loss = 0.498\n",
      "Epoch 796 Batch    4/26   train_loss = 0.499\n",
      "Epoch 800 Batch    0/26   train_loss = 0.466\n",
      "Epoch 803 Batch   22/26   train_loss = 0.497\n",
      "Epoch 807 Batch   18/26   train_loss = 0.489\n",
      "Epoch 811 Batch   14/26   train_loss = 0.504\n",
      "Epoch 815 Batch   10/26   train_loss = 0.517\n",
      "Epoch 819 Batch    6/26   train_loss = 0.539\n",
      "Epoch 823 Batch    2/26   train_loss = 0.544\n",
      "Epoch 826 Batch   24/26   train_loss = 0.479\n",
      "Epoch 830 Batch   20/26   train_loss = 0.514\n",
      "Epoch 834 Batch   16/26   train_loss = 0.530\n",
      "Epoch 838 Batch   12/26   train_loss = 0.493\n",
      "Epoch 842 Batch    8/26   train_loss = 0.482\n",
      "Epoch 846 Batch    4/26   train_loss = 0.500\n",
      "Epoch 850 Batch    0/26   train_loss = 0.463\n",
      "Epoch 853 Batch   22/26   train_loss = 0.480\n",
      "Epoch 857 Batch   18/26   train_loss = 0.493\n",
      "Epoch 861 Batch   14/26   train_loss = 0.497\n",
      "Epoch 865 Batch   10/26   train_loss = 0.479\n",
      "Epoch 869 Batch    6/26   train_loss = 0.533\n",
      "Epoch 873 Batch    2/26   train_loss = 0.516\n",
      "Epoch 876 Batch   24/26   train_loss = 0.499\n",
      "Epoch 880 Batch   20/26   train_loss = 0.514\n",
      "Epoch 884 Batch   16/26   train_loss = 0.522\n",
      "Epoch 888 Batch   12/26   train_loss = 0.497\n",
      "Epoch 892 Batch    8/26   train_loss = 0.463\n",
      "Epoch 896 Batch    4/26   train_loss = 0.491\n",
      "Epoch 900 Batch    0/26   train_loss = 0.446\n",
      "Epoch 903 Batch   22/26   train_loss = 0.470\n",
      "Epoch 907 Batch   18/26   train_loss = 0.470\n",
      "Epoch 911 Batch   14/26   train_loss = 0.478\n",
      "Epoch 915 Batch   10/26   train_loss = 0.448\n",
      "Epoch 919 Batch    6/26   train_loss = 0.477\n",
      "Epoch 923 Batch    2/26   train_loss = 0.473\n",
      "Epoch 926 Batch   24/26   train_loss = 0.458\n",
      "Epoch 930 Batch   20/26   train_loss = 0.460\n",
      "Epoch 934 Batch   16/26   train_loss = 0.463\n",
      "Epoch 938 Batch   12/26   train_loss = 0.435\n",
      "Epoch 942 Batch    8/26   train_loss = 0.448\n",
      "Epoch 946 Batch    4/26   train_loss = 0.452\n",
      "Epoch 950 Batch    0/26   train_loss = 0.416\n",
      "Epoch 953 Batch   22/26   train_loss = 0.446\n",
      "Epoch 957 Batch   18/26   train_loss = 0.453\n",
      "Epoch 961 Batch   14/26   train_loss = 0.472\n",
      "Epoch 965 Batch   10/26   train_loss = 0.445\n",
      "Epoch 969 Batch    6/26   train_loss = 0.492\n",
      "Epoch 973 Batch    2/26   train_loss = 0.459\n",
      "Epoch 976 Batch   24/26   train_loss = 0.474\n",
      "Epoch 980 Batch   20/26   train_loss = 0.484\n",
      "Epoch 984 Batch   16/26   train_loss = 0.482\n",
      "Epoch 988 Batch   12/26   train_loss = 0.466\n",
      "Epoch 992 Batch    8/26   train_loss = 0.451\n",
      "Epoch 996 Batch    4/26   train_loss = 0.480\n",
      "Model Trained and Saved\n"
     ]
    }
   ],
   "source": [
    "\"\"\"\n",
    "DON'T MODIFY ANYTHING IN THIS CELL\n",
    "\"\"\"\n",
    "batches = get_batches(int_text, batch_size, seq_length)\n",
    "\n",
    "with tf.Session(graph=train_graph) as sess:\n",
    "    sess.run(tf.global_variables_initializer())\n",
    "\n",
    "    for epoch_i in range(num_epochs):\n",
    "        state = sess.run(initial_state, {input_text: batches[0][0]})\n",
    "\n",
    "        for batch_i, (x, y) in enumerate(batches):\n",
    "            feed = {\n",
    "                input_text: x,\n",
    "                targets: y,\n",
    "                initial_state: state,\n",
    "                lr: learning_rate}\n",
    "            train_loss, state, _ = sess.run([cost, final_state, train_op], feed)\n",
    "\n",
    "            # Show every <show_every_n_batches> batches\n",
    "            if (epoch_i * len(batches) + batch_i) % show_every_n_batches == 0:\n",
    "                print('Epoch {:>3} Batch {:>4}/{}   train_loss = {:.3f}'.format(\n",
    "                    epoch_i,\n",
    "                    batch_i,\n",
    "                    len(batches),\n",
    "                    train_loss))\n",
    "\n",
    "    # Save Model\n",
    "    saver = tf.train.Saver()\n",
    "    saver.save(sess, save_dir)\n",
    "    print('Model Trained and Saved')"
   ]
  },
  {
   "cell_type": "markdown",
   "metadata": {
    "deletable": true,
    "editable": true
   },
   "source": [
    "## Save Parameters\n",
    "Save `seq_length` and `save_dir` for generating a new TV script."
   ]
  },
  {
   "cell_type": "code",
   "execution_count": 25,
   "metadata": {
    "collapsed": false,
    "deletable": true,
    "editable": true
   },
   "outputs": [],
   "source": [
    "\"\"\"\n",
    "DON'T MODIFY ANYTHING IN THIS CELL\n",
    "\"\"\"\n",
    "# Save parameters for checkpoint\n",
    "helper.save_params((seq_length, save_dir))"
   ]
  },
  {
   "cell_type": "markdown",
   "metadata": {
    "deletable": true,
    "editable": true
   },
   "source": [
    "# Checkpoint"
   ]
  },
  {
   "cell_type": "code",
   "execution_count": 2,
   "metadata": {
    "collapsed": false,
    "deletable": true,
    "editable": true
   },
   "outputs": [],
   "source": [
    "\"\"\"\n",
    "DON'T MODIFY ANYTHING IN THIS CELL\n",
    "\"\"\"\n",
    "import tensorflow as tf\n",
    "import numpy as np\n",
    "import helper\n",
    "import problem_unittests as tests\n",
    "\n",
    "_, vocab_to_int, int_to_vocab, token_dict = helper.load_preprocess()\n",
    "seq_length, load_dir = helper.load_params()"
   ]
  },
  {
   "cell_type": "markdown",
   "metadata": {
    "deletable": true,
    "editable": true
   },
   "source": [
    "## Implement Generate Functions\n",
    "### Get Tensors\n",
    "Get tensors from `loaded_graph` using the function [`get_tensor_by_name()`](https://www.tensorflow.org/api_docs/python/tf/Graph#get_tensor_by_name).  Get the tensors using the following names:\n",
    "- \"input:0\"\n",
    "- \"initial_state:0\"\n",
    "- \"final_state:0\"\n",
    "- \"probs:0\"\n",
    "\n",
    "Return the tensors in the following tuple `(InputTensor, InitialStateTensor, FinalStateTensor, ProbsTensor)` "
   ]
  },
  {
   "cell_type": "code",
   "execution_count": 3,
   "metadata": {
    "collapsed": false,
    "deletable": true,
    "editable": true
   },
   "outputs": [
    {
     "name": "stdout",
     "output_type": "stream",
     "text": [
      "Tests Passed\n"
     ]
    }
   ],
   "source": [
    "def get_tensors(loaded_graph):\n",
    "    \"\"\"\n",
    "    Get input, initial state, final state, and probabilities tensor from <loaded_graph>\n",
    "    :param loaded_graph: TensorFlow graph loaded from file\n",
    "    :return: Tuple (InputTensor, InitialStateTensor, FinalStateTensor, ProbsTensor)\n",
    "    \"\"\"\n",
    "    # TODO: Implement Function\n",
    "    input_tensor = loaded_graph.get_tensor_by_name('input:0')\n",
    "    initial_state_tensor = loaded_graph.get_tensor_by_name('initial_state:0')\n",
    "    final_state_tensor = loaded_graph.get_tensor_by_name('final_state:0')\n",
    "    probs_tensor = loaded_graph.get_tensor_by_name('probs:0')\n",
    "    return input_tensor, initial_state_tensor, final_state_tensor, probs_tensor\n",
    "\n",
    "\n",
    "\"\"\"\n",
    "DON'T MODIFY ANYTHING IN THIS CELL THAT IS BELOW THIS LINE\n",
    "\"\"\"\n",
    "tests.test_get_tensors(get_tensors)"
   ]
  },
  {
   "cell_type": "markdown",
   "metadata": {
    "deletable": true,
    "editable": true
   },
   "source": [
    "### Choose Word\n",
    "Implement the `pick_word()` function to select the next word using `probabilities`."
   ]
  },
  {
   "cell_type": "code",
   "execution_count": 4,
   "metadata": {
    "collapsed": false,
    "deletable": true,
    "editable": true
   },
   "outputs": [
    {
     "name": "stdout",
     "output_type": "stream",
     "text": [
      "Tests Passed\n"
     ]
    }
   ],
   "source": [
    "def pick_word(probabilities, int_to_vocab):\n",
    "    \"\"\"\n",
    "    Pick the next word in the generated text\n",
    "    :param probabilities: Probabilites of the next word\n",
    "    :param int_to_vocab: Dictionary of word ids as the keys and words as the values\n",
    "    :return: String of the predicted word\n",
    "    \"\"\"\n",
    "    # TODO: Implement Function\n",
    "    #I think that generated words are more exactly with additional restrictions.\n",
    "    probabilities[np.argsort(probabilities)[:-10]] = 0\n",
    "    p = probabilities / np.sum(probabilities)\n",
    "    w = np.random.choice(len(int_to_vocab), 1, p=p)[0]\n",
    "    pred_word = int_to_vocab[w]\n",
    "    return pred_word\n",
    "\n",
    "\n",
    "\"\"\"\n",
    "DON'T MODIFY ANYTHING IN THIS CELL THAT IS BELOW THIS LINE\n",
    "\"\"\"\n",
    "tests.test_pick_word(pick_word)"
   ]
  },
  {
   "cell_type": "markdown",
   "metadata": {
    "deletable": true,
    "editable": true
   },
   "source": [
    "## Generate TV Script\n",
    "This will generate the TV script for you.  Set `gen_length` to the length of TV script you want to generate."
   ]
  },
  {
   "cell_type": "code",
   "execution_count": 5,
   "metadata": {
    "collapsed": false,
    "deletable": true,
    "editable": true
   },
   "outputs": [
    {
     "name": "stdout",
     "output_type": "stream",
     "text": [
      "moe_szyslak: oh, this is very good for me. work! this is the busiest watching things in any while.\n",
      "kemi:(sighs) oh, of little girl for the crummy little kids that alcohol.\n",
      "lenny_leonard:(ominous) david byrne?!\n",
      "chief_wiggum: hey! that no friend like\".\n",
      "marge_simpson: that was me! i don't get them with a joe puke-pail like that.\n",
      "homer_simpson:(into phone) hello?\n",
      "marge_simpson: is some a little extreme? here.(over on one) okay, homer, i know what the. of the people name what have to so more.\n",
      "moe_szyslak:(shocked) moe are the two by\" /)...\" that's moe, moe.\n",
      "moe_szyslak:(most people) good,\" lisa.\"!\n",
      "moe_szyslak: hey, moe! beer right in the back room right there, like one beer all the world of these winnings help,\" kinda thing\" was a bartender.\n",
      "moe_szyslak: for a hundred and moe.\n",
      "moe_szyslak: so you're a published author!\n",
      "carl_carlson:(frustrated snort) hey moe, how's it do we call. that's moe....... little. i know my answer.\n",
      "moe_szyslak: ah, is it still on one, but my thing call to find) look for my daughter!\n",
      "moe_szyslak:(sings) breaking this bar.\n",
      "moe_szyslak: uh, homer, i make the this thing.\n",
      "moe_szyslak:(warmly) hey, i'm in everyone-- shut up to take me and take me here!\n",
      "moe_szyslak:(remembering) what marge, homer? it's over real jukebox! the one million wants an eyeball and a chum.\n",
      "homer_simpson: and it was open me now!\n",
      "lenny_leonard:(pissed) help, homer, let's be...(dramatic) beer.\n",
      "moe_szyslak: homer are you still are wrong again?\n",
      "moe_szyslak: homer, i wanna go here to you him to drink.\n",
      "homer_simpson:(ominous) beer you do i do?\n",
      "chief_wiggum: you don't do, i think you can take that religion, and america?\n",
      "moe_szyslak: huh?\n",
      "homer_simpson: not one my friend.\n",
      "moe_szyslak: hey hey! see it!!\n",
      "moe_szyslak: hey, hold the beer. an evil, too house, you think. and like, i heard about that?\n",
      "barney_gumble: why don't you care with that like?! don't, i'm surprised please, put it here me in here to show with my most(raises glass in) oh yeah...\n",
      "moe_szyslak:(into phone) moe's tavern. hold your nose. but. did is lisa on our tell you can make you the first man.\n",
      "ned_flanders:(incredulous) moe.\n",
      "homer_simpson:(on, homer) this?\n",
      "homer_simpson:(to be, guy) do you know your pathetic glass).\n",
      "marge_simpson: homer, what's right on lenny the next hundred feet! not barney had?\n",
      "moe_szyslak:(excited) oh, this is hey, everybody.\n",
      "apu_nahasapeemapetilon: yes! duff!(our friend was a man. i mean he again!\n",
      "homer_simpson: hey, homer, hey, no!\n",
      "homer_simpson: please, mr. maybe i don't think just was got it is!\n",
      "moe_szyslak: mr. burns was gonna catch you for...(sobs)\n",
      "moe_szyslak:(sotto) there, the boy, the might i wanna come up.\n",
      "moe_szyslak: but just too.\n",
      "barney_gumble:(surprised) you all. you're on.\n",
      "\n",
      "\n",
      "homer_simpson:(morose) yeah, homer? it's not a time.\n",
      "homer_simpson:(singing), a. there's going to the old one of the serum?...\n",
      "moe_szyslak: wait a minute! something's reflected up. what? don't worry, moe. i had to take that new! 'cause then me, remember.\n",
      "marge_simpson:(sings) just a man) yeah, well, you wanna know too much to the hundred and yellow lights.\n",
      "carl_carlson: people, but moe, this will work a lot of people who that's a free.\n",
      "moe_szyslak: moe, just a car.\n",
      "moe_szyslak: homer, this was miss all because make out a wire.\n",
      "moe_szyslak:(sigh) hello? had in money.\n",
      "carl_carlson: if you must grope me and drink no way.\n",
      "homer_simpson: moe, who was a right?\n",
      "carl_carlson:(calling out) did you get that election, or they aren't as real(into the kind)\n",
      "moe_szyslak: uh, marge. just one of over your bar, get the idea with it!\n",
      "moe_szyslak: all right, everybody!\n",
      "lenny_leonard: not so fast...\n",
      "\n",
      "\n",
      "moe_szyslak: man, i don't wanna start to in my help.\n",
      "lisa_simpson: it's your best friend who put that?\n",
      "bart_simpson: that after a hundred and uh...\"\n",
      "moe_szyslak:(sobs) he's our! that's the already! i could be about to dead!\n",
      "moe_szyslak:(chuckles) you guys down homer's little more day he did no make light a man...\n",
      "edna_krabappel-flanders:(\") not, moe, this?\n",
      "\n",
      "\n",
      "moe_szyslak:(hanging) oh, i--(very homer) i'm sorry of your one\n"
     ]
    }
   ],
   "source": [
    "gen_length = 1000\n",
    "# homer_simpson, moe_szyslak, or Barney_Gumble\n",
    "prime_word = 'moe_szyslak'\n",
    "\n",
    "\"\"\"\n",
    "DON'T MODIFY ANYTHING IN THIS CELL THAT IS BELOW THIS LINE\n",
    "\"\"\"\n",
    "loaded_graph = tf.Graph()\n",
    "with tf.Session(graph=loaded_graph) as sess:\n",
    "    # Load saved model\n",
    "    loader = tf.train.import_meta_graph(load_dir + '.meta')\n",
    "    loader.restore(sess, load_dir)\n",
    "\n",
    "    # Get Tensors from loaded model\n",
    "    input_text, initial_state, final_state, probs = get_tensors(loaded_graph)\n",
    "\n",
    "    # Sentences generation setup\n",
    "    gen_sentences = [prime_word + ':']\n",
    "    prev_state = sess.run(initial_state, {input_text: np.array([[1]])})\n",
    "\n",
    "    # Generate sentences\n",
    "    for n in range(gen_length):\n",
    "        # Dynamic Input\n",
    "        dyn_input = [[vocab_to_int[word] for word in gen_sentences[-seq_length:]]]\n",
    "        dyn_seq_length = len(dyn_input[0])\n",
    "\n",
    "        # Get Prediction\n",
    "        probabilities, prev_state = sess.run(\n",
    "            [probs, final_state],\n",
    "            {input_text: dyn_input, initial_state: prev_state})\n",
    "        \n",
    "        pred_word = pick_word(probabilities[dyn_seq_length-1], int_to_vocab)\n",
    "\n",
    "        gen_sentences.append(pred_word)\n",
    "    \n",
    "    # Remove tokens\n",
    "    tv_script = ' '.join(gen_sentences)\n",
    "    for key, token in token_dict.items():\n",
    "        ending = ' ' if key in ['\\n', '(', '\"'] else ''\n",
    "        tv_script = tv_script.replace(' ' + token.lower(), key)\n",
    "    tv_script = tv_script.replace('\\n ', '\\n')\n",
    "    tv_script = tv_script.replace('( ', '(')\n",
    "        \n",
    "    print(tv_script)"
   ]
  },
  {
   "cell_type": "markdown",
   "metadata": {
    "deletable": true,
    "editable": true
   },
   "source": [
    "# The TV Script is Nonsensical\n",
    "It's ok if the TV script doesn't make any sense.  We trained on less than a megabyte of text.  In order to get good results, you'll have to use a smaller vocabulary or get more data.  Luckly there's more data!  As we mentioned in the begging of this project, this is a subset of [another dataset](https://www.kaggle.com/wcukierski/the-simpsons-by-the-data).  We didn't have you train on all the data, because that would take too long.  However, you are free to train your neural network on all the data.  After you complete the project, of course.\n",
    "# Submitting This Project\n",
    "When submitting this project, make sure to run all the cells before saving the notebook. Save the notebook file as \"dlnd_tv_script_generation.ipynb\" and save it as a HTML file under \"File\" -> \"Download as\". Include the \"helper.py\" and \"problem_unittests.py\" files in your submission."
   ]
  }
 ],
 "metadata": {
  "kernelspec": {
   "display_name": "Python 3",
   "language": "python",
   "name": "python3"
  },
  "language_info": {
   "codemirror_mode": {
    "name": "ipython",
    "version": 3
   },
   "file_extension": ".py",
   "mimetype": "text/x-python",
   "name": "python",
   "nbconvert_exporter": "python",
   "pygments_lexer": "ipython3",
   "version": "3.5.2"
  },
  "widgets": {
   "state": {},
   "version": "1.1.2"
  }
 },
 "nbformat": 4,
 "nbformat_minor": 0
}
